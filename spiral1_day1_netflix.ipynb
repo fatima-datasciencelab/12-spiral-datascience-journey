{
 "cells": [
  {
   "cell_type": "code",
   "execution_count": 1,
   "id": "67741914-da57-4566-9e59-e8e783c9ff88",
   "metadata": {},
   "outputs": [],
   "source": [
    "# Step 1: Pandas library ko import karna\n",
    "import pandas as pd\n"
   ]
  },
  {
   "cell_type": "code",
   "execution_count": 3,
   "id": "7e45a275-3c6e-4f47-ba4c-5628ed5bccb7",
   "metadata": {},
   "outputs": [],
   "source": [
    "# Step 2: Netflix dataset ko load karna\n",
    "df = pd.read_csv(\"netflix_titles.csv\")  # Make sure file sahi folder mein ho\n",
    "\n"
   ]
  },
  {
   "cell_type": "code",
   "execution_count": 5,
   "id": "fc0ca421-0955-4616-9a61-92888d131e79",
   "metadata": {},
   "outputs": [
    {
     "name": "stdout",
     "output_type": "stream",
     "text": [
      "  show_id     type                  title         director  \\\n",
      "0      s1    Movie   Dick Johnson Is Dead  Kirsten Johnson   \n",
      "1      s2  TV Show          Blood & Water              NaN   \n",
      "2      s3  TV Show              Ganglands  Julien Leclercq   \n",
      "3      s4  TV Show  Jailbirds New Orleans              NaN   \n",
      "4      s5  TV Show           Kota Factory              NaN   \n",
      "\n",
      "                                                cast        country  \\\n",
      "0                                                NaN  United States   \n",
      "1  Ama Qamata, Khosi Ngema, Gail Mabalane, Thaban...   South Africa   \n",
      "2  Sami Bouajila, Tracy Gotoas, Samuel Jouy, Nabi...            NaN   \n",
      "3                                                NaN            NaN   \n",
      "4  Mayur More, Jitendra Kumar, Ranjan Raj, Alam K...          India   \n",
      "\n",
      "           date_added  release_year rating   duration  \\\n",
      "0  September 25, 2021          2020  PG-13     90 min   \n",
      "1  September 24, 2021          2021  TV-MA  2 Seasons   \n",
      "2  September 24, 2021          2021  TV-MA   1 Season   \n",
      "3  September 24, 2021          2021  TV-MA   1 Season   \n",
      "4  September 24, 2021          2021  TV-MA  2 Seasons   \n",
      "\n",
      "                                           listed_in  \\\n",
      "0                                      Documentaries   \n",
      "1    International TV Shows, TV Dramas, TV Mysteries   \n",
      "2  Crime TV Shows, International TV Shows, TV Act...   \n",
      "3                             Docuseries, Reality TV   \n",
      "4  International TV Shows, Romantic TV Shows, TV ...   \n",
      "\n",
      "                                         description  \n",
      "0  As her father nears the end of his life, filmm...  \n",
      "1  After crossing paths at a party, a Cape Town t...  \n",
      "2  To protect his family from a powerful drug lor...  \n",
      "3  Feuds, flirtations and toilet talk go down amo...  \n",
      "4  In a city of coaching centers known to train I...  \n"
     ]
    }
   ],
   "source": [
    "# Step 3: Pehli 5 rows dekhna (basic data overview)\n",
    "print(df.head())  # head() first 5 rows dikhata hai\n"
   ]
  },
  {
   "cell_type": "code",
   "execution_count": 7,
   "id": "460c2732-1876-4643-9246-5db31c270507",
   "metadata": {},
   "outputs": [
    {
     "name": "stdout",
     "output_type": "stream",
     "text": [
      "<class 'pandas.core.frame.DataFrame'>\n",
      "RangeIndex: 8807 entries, 0 to 8806\n",
      "Data columns (total 12 columns):\n",
      " #   Column        Non-Null Count  Dtype \n",
      "---  ------        --------------  ----- \n",
      " 0   show_id       8807 non-null   object\n",
      " 1   type          8807 non-null   object\n",
      " 2   title         8807 non-null   object\n",
      " 3   director      6173 non-null   object\n",
      " 4   cast          7982 non-null   object\n",
      " 5   country       7976 non-null   object\n",
      " 6   date_added    8797 non-null   object\n",
      " 7   release_year  8807 non-null   int64 \n",
      " 8   rating        8803 non-null   object\n",
      " 9   duration      8804 non-null   object\n",
      " 10  listed_in     8807 non-null   object\n",
      " 11  description   8807 non-null   object\n",
      "dtypes: int64(1), object(11)\n",
      "memory usage: 825.8+ KB\n",
      "None\n"
     ]
    }
   ],
   "source": [
    "\n",
    "# Step 4: Dataset ka structure dekhna\n",
    "print(df.info())  # info() se columns, data types, null values ka idea milta hai\n"
   ]
  },
  {
   "cell_type": "code",
   "execution_count": 9,
   "id": "e66a679c-4e60-442f-a4f6-69df25b7f749",
   "metadata": {},
   "outputs": [
    {
     "name": "stdout",
     "output_type": "stream",
     "text": [
      "       release_year\n",
      "count   8807.000000\n",
      "mean    2014.180198\n",
      "std        8.819312\n",
      "min     1925.000000\n",
      "25%     2013.000000\n",
      "50%     2017.000000\n",
      "75%     2019.000000\n",
      "max     2021.000000\n"
     ]
    }
   ],
   "source": [
    "\n",
    "# Step 5: Basic statistics of numerical columns\n",
    "print(df.describe())  # describe() numbers ke liye mean, min, max waghera dikhata hai\n",
    "\n"
   ]
  },
  {
   "cell_type": "code",
   "execution_count": 11,
   "id": "6bc61650-b710-4b61-b11d-ceb2f56bfd53",
   "metadata": {},
   "outputs": [
    {
     "name": "stdout",
     "output_type": "stream",
     "text": [
      "type\n",
      "Movie      6131\n",
      "TV Show    2676\n",
      "Name: count, dtype: int64\n"
     ]
    }
   ],
   "source": [
    "# Step 6: Content kis type ka hai (Movie ya TV Show)?\n",
    "print(df['type'].value_counts())  # value_counts() se unique value aur count milta hai\n"
   ]
  },
  {
   "cell_type": "code",
   "execution_count": 13,
   "id": "ecb227bf-a549-40aa-832d-a71752148e5b",
   "metadata": {},
   "outputs": [
    {
     "name": "stdout",
     "output_type": "stream",
     "text": [
      "country\n",
      "United States     2818\n",
      "India              972\n",
      "United Kingdom     419\n",
      "Japan              245\n",
      "South Korea        199\n",
      "Canada             181\n",
      "Spain              145\n",
      "France             124\n",
      "Mexico             110\n",
      "Egypt              106\n",
      "Name: count, dtype: int64\n"
     ]
    }
   ],
   "source": [
    "# Step 7: Top 10 countries jahan se content aata hai\n",
    "print(df['country'].value_counts().head(10))\n"
   ]
  },
  {
   "cell_type": "code",
   "execution_count": 15,
   "id": "32d2d9ce-f17b-40dc-ac66-9121e6cb1636",
   "metadata": {},
   "outputs": [
    {
     "name": "stdout",
     "output_type": "stream",
     "text": [
      "show_id            0\n",
      "type               0\n",
      "title              0\n",
      "director        2634\n",
      "cast             825\n",
      "country          831\n",
      "date_added        10\n",
      "release_year       0\n",
      "rating             4\n",
      "duration           3\n",
      "listed_in          0\n",
      "description        0\n",
      "dtype: int64\n"
     ]
    }
   ],
   "source": [
    "# Step 8: Har column mein kitne missing values hain?\n",
    "print(df.isnull().sum())  # isnull().sum() missing values batata hai column-wise"
   ]
  },
  {
   "cell_type": "code",
   "execution_count": null,
   "id": "6338fe6b-e3b4-4bc4-b446-436620bda228",
   "metadata": {},
   "outputs": [],
   "source": []
  }
 ],
 "metadata": {
  "kernelspec": {
   "display_name": "Python 3 (ipykernel)",
   "language": "python",
   "name": "python3"
  },
  "language_info": {
   "codemirror_mode": {
    "name": "ipython",
    "version": 3
   },
   "file_extension": ".py",
   "mimetype": "text/x-python",
   "name": "python",
   "nbconvert_exporter": "python",
   "pygments_lexer": "ipython3",
   "version": "3.12.7"
  }
 },
 "nbformat": 4,
 "nbformat_minor": 5
}
