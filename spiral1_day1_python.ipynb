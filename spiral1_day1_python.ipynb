{
 "cells": [
  {
   "cell_type": "code",
   "execution_count": 1,
   "id": "1709c83b-2f08-4b7d-89f1-122216961092",
   "metadata": {},
   "outputs": [
    {
     "name": "stdout",
     "output_type": "stream",
     "text": [
      "name\n"
     ]
    }
   ],
   "source": [
    "# Variable & Input\n",
    "name= \"fatima\" #string\n",
    "age=23\n",
    "price= 25.8\n",
    "print(\"name\")"
   ]
  },
  {
   "cell_type": "code",
   "execution_count": 3,
   "id": "b6f50509-846a-494d-9329-63369ca72ce2",
   "metadata": {},
   "outputs": [
    {
     "name": "stdout",
     "output_type": "stream",
     "text": [
      "fatima\n"
     ]
    }
   ],
   "source": [
    "name= \"fatima\"\n",
    "age=23\n",
    "price= 25.8\n",
    "print(name)"
   ]
  },
  {
   "cell_type": "code",
   "execution_count": 7,
   "id": "bcc64973-9bd4-45b5-82f5-d2326050a107",
   "metadata": {},
   "outputs": [
    {
     "name": "stdout",
     "output_type": "stream",
     "text": [
      "my name is  fatima\n",
      "my age is 23\n",
      "price is 25.9\n"
     ]
    }
   ],
   "source": [
    "# Variable & Input\n",
    "name = \"fatima\"\n",
    "age = 23\n",
    "price = 25.9\n",
    "print(\"my name is \", name)\n",
    "print(\"my age is\", age)\n",
    "print(\"price is\", price)"
   ]
  },
  {
   "cell_type": "code",
   "execution_count": 9,
   "id": "f9d8f4be-50f9-48df-88c4-ff34c62faccd",
   "metadata": {},
   "outputs": [
    {
     "name": "stdout",
     "output_type": "stream",
     "text": [
      "<class 'str'>\n",
      "<class 'int'>\n",
      "<class 'float'>\n"
     ]
    }
   ],
   "source": [
    "#data type\n",
    "name = \"fatima\"\n",
    "age = 23\n",
    "price = 25.9\n",
    "\n",
    "print(type(name))\n",
    "print(type(age))\n",
    "print(type(price))"
   ]
  },
  {
   "cell_type": "code",
   "execution_count": 13,
   "id": "12fbb3e2-b89a-4fc4-a693-ff3cb07521a9",
   "metadata": {},
   "outputs": [
    {
     "name": "stdout",
     "output_type": "stream",
     "text": [
      "7\n"
     ]
    }
   ],
   "source": [
    "a=2\n",
    "b=5\n",
    "sum= a+b\n",
    "print(sum)\n"
   ]
  },
  {
   "cell_type": "code",
   "execution_count": 23,
   "id": "20ec4ef3-1acf-4957-882f-464822a39c72",
   "metadata": {},
   "outputs": [
    {
     "name": "stdout",
     "output_type": "stream",
     "text": [
      "16\n",
      "4\n",
      "60\n",
      "1.6666666666666667\n",
      "4\n",
      "1000000\n"
     ]
    }
   ],
   "source": [
    "#arithematic operators\n",
    "a=10\n",
    "b=6\n",
    "print(a+b)\n",
    "print(a-b)\n",
    "print(a*b)\n",
    "print(a/b)\n",
    "print(a%b) #remainder\n",
    "print(a**b) #a^b a power b"
   ]
  },
  {
   "cell_type": "code",
   "execution_count": 25,
   "id": "2bf73b43-ceda-454f-8c76-6f0bbf198e3d",
   "metadata": {},
   "outputs": [
    {
     "name": "stdout",
     "output_type": "stream",
     "text": [
      "False\n",
      "True\n",
      "True\n",
      "False\n",
      "False\n",
      "True\n"
     ]
    }
   ],
   "source": [
    "#relational operator\n",
    "a=50\n",
    "b=20\n",
    "print(a==b) #False\n",
    "print(a!=b) #True\n",
    "print(a>=b) #True\n",
    "print(a<b)  #False\n",
    "print(a<=b) #False\n",
    "print(a>b)  #True"
   ]
  },
  {
   "cell_type": "code",
   "execution_count": 29,
   "id": "eab2e630-70a1-46b6-a7fa-f63fb2425f7c",
   "metadata": {},
   "outputs": [
    {
     "ename": "TypeError",
     "evalue": "can only concatenate str (not \"float\") to str",
     "output_type": "error",
     "traceback": [
      "\u001b[1;31m---------------------------------------------------------------------------\u001b[0m",
      "\u001b[1;31mTypeError\u001b[0m                                 Traceback (most recent call last)",
      "Cell \u001b[1;32mIn[29], line 4\u001b[0m\n\u001b[0;32m      2\u001b[0m a\u001b[38;5;241m=\u001b[39m\u001b[38;5;124m\"\u001b[39m\u001b[38;5;124m2\u001b[39m\u001b[38;5;124m\"\u001b[39m\n\u001b[0;32m      3\u001b[0m b\u001b[38;5;241m=\u001b[39m\u001b[38;5;241m4.25\u001b[39m\n\u001b[1;32m----> 4\u001b[0m \u001b[38;5;28mprint\u001b[39m(a\u001b[38;5;241m+\u001b[39mb)\n",
      "\u001b[1;31mTypeError\u001b[0m: can only concatenate str (not \"float\") to str"
     ]
    }
   ],
   "source": [
    "#type conversion\n",
    "a=\"2\"\n",
    "b=4.25\n",
    "print(a+b)"
   ]
  },
  {
   "cell_type": "code",
   "execution_count": 31,
   "id": "56f784c9-3df1-4203-8a57-9a6a4e5a6e1b",
   "metadata": {},
   "outputs": [
    {
     "name": "stdout",
     "output_type": "stream",
     "text": [
      "6.25\n",
      "<class 'int'>\n"
     ]
    }
   ],
   "source": [
    "#type conversion\n",
    "a=int(\"2\")\n",
    "b=4.25\n",
    "print(a+b)\n",
    "print(type(a))"
   ]
  },
  {
   "cell_type": "code",
   "execution_count": null,
   "id": "26ce4fe4-056c-4789-8b87-cec250b67c9e",
   "metadata": {},
   "outputs": [],
   "source": [
    "#input\n",
    "name = input(\"Enter your name: \")\n",
    "print(\"Welcome\", name)"
   ]
  },
  {
   "cell_type": "code",
   "execution_count": null,
   "id": "f0b7d114-fc76-426b-a0d5-1c008dc449e0",
   "metadata": {},
   "outputs": [],
   "source": []
  }
 ],
 "metadata": {
  "kernelspec": {
   "display_name": "Python 3 (ipykernel)",
   "language": "python",
   "name": "python3"
  },
  "language_info": {
   "codemirror_mode": {
    "name": "ipython",
    "version": 3
   },
   "file_extension": ".py",
   "mimetype": "text/x-python",
   "name": "python",
   "nbconvert_exporter": "python",
   "pygments_lexer": "ipython3",
   "version": "3.12.7"
  }
 },
 "nbformat": 4,
 "nbformat_minor": 5
}
