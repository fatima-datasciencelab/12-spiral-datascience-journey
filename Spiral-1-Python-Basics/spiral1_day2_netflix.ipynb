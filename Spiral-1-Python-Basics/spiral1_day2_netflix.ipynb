{
 "cells": [
  {
   "cell_type": "code",
   "execution_count": 1,
   "id": "a61fd012-4d7c-484a-be6e-fd936c137178",
   "metadata": {},
   "outputs": [],
   "source": [
    "import pandas as pd\n",
    "\n",
    "# Read Dataset\n",
    "df = pd.read_csv(\"netflix_titles.csv\")\n",
    "\n"
   ]
  },
  {
   "cell_type": "code",
   "execution_count": 3,
   "id": "9fb9307f-60db-4f81-b501-c80a58b2e633",
   "metadata": {},
   "outputs": [
    {
     "name": "stdout",
     "output_type": "stream",
     "text": [
      "type\n",
      "Movie      6131\n",
      "TV Show    2676\n",
      "Name: count, dtype: int64\n"
     ]
    }
   ],
   "source": [
    "# 1. Movies vs TV Shows count\n",
    "print(df['type'].value_counts())\n"
   ]
  },
  {
   "cell_type": "code",
   "execution_count": 5,
   "id": "3e8bdf62-272a-4053-8f0b-06c970603607",
   "metadata": {},
   "outputs": [
    {
     "name": "stdout",
     "output_type": "stream",
     "text": [
      "country\n",
      "United States     2818\n",
      "India              972\n",
      "United Kingdom     419\n",
      "Japan              245\n",
      "South Korea        199\n",
      "Canada             181\n",
      "Spain              145\n",
      "France             124\n",
      "Mexico             110\n",
      "Egypt              106\n",
      "Name: count, dtype: int64\n"
     ]
    }
   ],
   "source": [
    "# 2. Top 10 countries with most content\n",
    "print(df['country'].value_counts().head(10))"
   ]
  },
  {
   "cell_type": "code",
   "execution_count": 7,
   "id": "4ccd13fe-b0e4-4127-a534-fd0e0b50f386",
   "metadata": {},
   "outputs": [
    {
     "name": "stdout",
     "output_type": "stream",
     "text": [
      "rating\n",
      "TV-MA    3207\n",
      "TV-14    2160\n",
      "TV-PG     863\n",
      "R         799\n",
      "PG-13     490\n",
      "Name: count, dtype: int64\n"
     ]
    }
   ],
   "source": [
    "# 3. Top 5 Ratings\n",
    "print(df['rating'].value_counts().head())\n"
   ]
  },
  {
   "cell_type": "code",
   "execution_count": 9,
   "id": "2358936a-05b2-4165-93a7-0ee12de449c9",
   "metadata": {},
   "outputs": [
    {
     "name": "stdout",
     "output_type": "stream",
     "text": [
      "                   title   type  release_year\n",
      "0   Dick Johnson Is Dead  Movie          2020\n",
      "9           The Starling  Movie          2021\n",
      "27             Grown Ups  Movie          2010\n",
      "28            Dark Skies  Movie          2013\n",
      "29              Paranoia  Movie          2013\n"
     ]
    }
   ],
   "source": [
    "# 4. PG-13 Filter\n",
    "pg13 = df[df['rating'] == 'PG-13']\n",
    "print(pg13[['title', 'type', 'release_year']].head())\n"
   ]
  },
  {
   "cell_type": "code",
   "execution_count": 11,
   "id": "c740aabc-e728-40a9-9c46-545cb2d15015",
   "metadata": {},
   "outputs": [
    {
     "name": "stdout",
     "output_type": "stream",
     "text": [
      "5656\n"
     ]
    }
   ],
   "source": [
    "# 5. Shows after 2015\n",
    "print(df[df['release_year'] > 2015].shape[0])\n"
   ]
  },
  {
   "cell_type": "code",
   "execution_count": null,
   "id": "5f259200-b44a-4056-a137-1039107c9c1b",
   "metadata": {},
   "outputs": [],
   "source": []
  }
 ],
 "metadata": {
  "kernelspec": {
   "display_name": "Python 3 (ipykernel)",
   "language": "python",
   "name": "python3"
  },
  "language_info": {
   "codemirror_mode": {
    "name": "ipython",
    "version": 3
   },
   "file_extension": ".py",
   "mimetype": "text/x-python",
   "name": "python",
   "nbconvert_exporter": "python",
   "pygments_lexer": "ipython3",
   "version": "3.12.7"
  }
 },
 "nbformat": 4,
 "nbformat_minor": 5
}
