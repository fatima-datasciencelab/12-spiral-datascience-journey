{
 "cells": [
  {
   "cell_type": "code",
   "execution_count": 3,
   "id": "c1222837-6bfb-414b-87aa-5313b3d2d554",
   "metadata": {},
   "outputs": [
    {
     "name": "stdout",
     "output_type": "stream",
     "text": [
      "show_id            0\n",
      "type               0\n",
      "title              0\n",
      "director        2634\n",
      "cast             825\n",
      "country          831\n",
      "date_added        10\n",
      "release_year       0\n",
      "rating             4\n",
      "duration           3\n",
      "listed_in          0\n",
      "description        0\n",
      "dtype: int64\n"
     ]
    },
    {
     "name": "stderr",
     "output_type": "stream",
     "text": [
      "C:\\Users\\HP\\AppData\\Local\\Temp\\ipykernel_12192\\167649357.py:14: FutureWarning: A value is trying to be set on a copy of a DataFrame or Series through chained assignment using an inplace method.\n",
      "The behavior will change in pandas 3.0. This inplace method will never work because the intermediate object on which we are setting values always behaves as a copy.\n",
      "\n",
      "For example, when doing 'df[col].method(value, inplace=True)', try using 'df.method({col: value}, inplace=True)' or df[col] = df[col].method(value) instead, to perform the operation inplace on the original object.\n",
      "\n",
      "\n",
      "  df['cast'].fillna(\"Not Available\", inplace=True)\n"
     ]
    }
   ],
   "source": [
    "# Count missing\n",
    "# Missing values occur when some data is not recorded (e.g., missing director names).\n",
    "# We can either drop these rows (dropna) or fill them with default values (fillna).\n",
    "\n",
    "\n",
    "import pandas as pd\n",
    "\n",
    "# Step 2: Load Netflix dataset\n",
    "df = pd.read_csv(\"netflix_titles.csv\")  # Make sure this CSV file is in same folder\n",
    "\n",
    "print(df.isnull().sum())\n",
    "\n",
    "# Drop missing in specific column\n",
    "df_cleaned = df.dropna(subset=['director'])\n",
    "\n",
    "# Fill missing\n",
    "df['cast'].fillna(\"Not Available\", inplace=True)\n"
   ]
  },
  {
   "cell_type": "code",
   "execution_count": 5,
   "id": "bbc43e97-b55a-4479-980a-7d329fab9177",
   "metadata": {},
   "outputs": [
    {
     "name": "stdout",
     "output_type": "stream",
     "text": [
      "0\n"
     ]
    }
   ],
   "source": [
    "# Check\n",
    "# Duplicates are rows with repeated data that add no value.\n",
    "# We remove them using drop_duplicates() to avoid biased analysis.\n",
    "\n",
    "print(df.duplicated().sum())\n",
    "\n",
    "# Remove duplicates\n",
    "df = df.drop_duplicates()\n"
   ]
  },
  {
   "cell_type": "code",
   "execution_count": 7,
   "id": "58f68553-189e-4e07-8c89-bf2ca087dc01",
   "metadata": {},
   "outputs": [
    {
     "name": "stdout",
     "output_type": "stream",
     "text": [
      "  show_id                  title         director  \\\n",
      "0      s1   Dick Johnson Is Dead  Kirsten Johnson   \n",
      "1      s2          Blood & Water              NaN   \n",
      "2      s3              Ganglands  Julien Leclercq   \n",
      "3      s4  Jailbirds New Orleans              NaN   \n",
      "4      s5           Kota Factory              NaN   \n",
      "\n",
      "                                                cast        country  \\\n",
      "0                                      Not Available  United States   \n",
      "1  Ama Qamata, Khosi Ngema, Gail Mabalane, Thaban...   South Africa   \n",
      "2  Sami Bouajila, Tracy Gotoas, Samuel Jouy, Nabi...            NaN   \n",
      "3                                      Not Available            NaN   \n",
      "4  Mayur More, Jitendra Kumar, Ranjan Raj, Alam K...          India   \n",
      "\n",
      "           date_added  release_year rating   duration  \\\n",
      "0  September 25, 2021          2020  PG-13     90 min   \n",
      "1  September 24, 2021          2021  TV-MA  2 Seasons   \n",
      "2  September 24, 2021          2021  TV-MA   1 Season   \n",
      "3  September 24, 2021          2021  TV-MA   1 Season   \n",
      "4  September 24, 2021          2021  TV-MA  2 Seasons   \n",
      "\n",
      "                                           listed_in  \\\n",
      "0                                      Documentaries   \n",
      "1    International TV Shows, TV Dramas, TV Mysteries   \n",
      "2  Crime TV Shows, International TV Shows, TV Act...   \n",
      "3                             Docuseries, Reality TV   \n",
      "4  International TV Shows, Romantic TV Shows, TV ...   \n",
      "\n",
      "                                         description  type_Movie  type_TV Show  \n",
      "0  As her father nears the end of his life, filmm...        True         False  \n",
      "1  After crossing paths at a party, a Cape Town t...       False          True  \n",
      "2  To protect his family from a powerful drug lor...       False          True  \n",
      "3  Feuds, flirtations and toilet talk go down amo...       False          True  \n",
      "4  In a city of coaching centers known to train I...       False          True  \n"
     ]
    }
   ],
   "source": [
    "# One-hot encoding on 'type' (Movie/TV Show)\n",
    "# Encoding is used to convert categorical (text) data into numeric form.\n",
    "# For example, 'type' column with 'Movie' or 'TV Show' can be encoded into binary columns using one-hot encoding.\n",
    "# This is needed for machine learning models that only understand numbers.\n",
    "\n",
    "encoded_df = pd.get_dummies(df, columns=['type'])\n",
    "print(encoded_df.head())\n"
   ]
  },
  {
   "cell_type": "code",
   "execution_count": null,
   "id": "cb483dc4-cfe5-41d6-9605-281de4bd1901",
   "metadata": {},
   "outputs": [],
   "source": []
  }
 ],
 "metadata": {
  "kernelspec": {
   "display_name": "Python 3 (ipykernel)",
   "language": "python",
   "name": "python3"
  },
  "language_info": {
   "codemirror_mode": {
    "name": "ipython",
    "version": 3
   },
   "file_extension": ".py",
   "mimetype": "text/x-python",
   "name": "python",
   "nbconvert_exporter": "python",
   "pygments_lexer": "ipython3",
   "version": "3.12.7"
  }
 },
 "nbformat": 4,
 "nbformat_minor": 5
}
