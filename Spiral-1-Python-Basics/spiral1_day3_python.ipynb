{
 "cells": [
  {
   "cell_type": "code",
   "execution_count": 1,
   "id": "9c5f79ec-445a-4695-a339-90104ea76c66",
   "metadata": {},
   "outputs": [
    {
     "name": "stdout",
     "output_type": "stream",
     "text": [
      "apple\n"
     ]
    }
   ],
   "source": [
    "#Tuples (Immutable Lists)\n",
    "my_tuple = (\"apple\", \"banana\", \"cherry\")\n",
    "print(my_tuple[0])"
   ]
  },
  {
   "cell_type": "code",
   "execution_count": 5,
   "id": "301519c5-45ba-4472-9547-0a502774eca3",
   "metadata": {},
   "outputs": [
    {
     "name": "stdout",
     "output_type": "stream",
     "text": [
      "Fatima\n",
      "Pandas\n"
     ]
    }
   ],
   "source": [
    "#Dictionaries\n",
    "student = {\n",
    "    \"name\": \"Fatima\",\n",
    "    \"age\": 24,\n",
    "    \"skills\": [\"Python\", \"Pandas\"]\n",
    "}\n",
    "print(student[\"name\"])\n",
    "print(student[\"skills\"][1])\n"
   ]
  },
  {
   "cell_type": "code",
   "execution_count": 7,
   "id": "0ff5bb61-e10c-45d0-88fa-96e080e93d31",
   "metadata": {},
   "outputs": [
    {
     "name": "stdout",
     "output_type": "stream",
     "text": [
      "Ali\n"
     ]
    }
   ],
   "source": [
    "#Nested Dictionary\n",
    "team = {\n",
    "    \"player1\": {\"name\": \"Ali\", \"score\": 90},\n",
    "    \"player2\": {\"name\": \"Sara\", \"score\": 85}\n",
    "}\n",
    "print(team[\"player1\"][\"name\"])\n"
   ]
  },
  {
   "cell_type": "code",
   "execution_count": 9,
   "id": "e59eedbb-5c21-4067-a88d-54390569279a",
   "metadata": {},
   "outputs": [],
   "source": [
    "#File Writing\n",
    "with open(\"test.txt\", \"w\") as f:\n",
    "    f.write(\"This is Fatima's Spiral 1 Day 3 file.\\n\")\n"
   ]
  },
  {
   "cell_type": "code",
   "execution_count": 11,
   "id": "6776095d-dabd-4189-a607-8fdccffd2c73",
   "metadata": {},
   "outputs": [
    {
     "name": "stdout",
     "output_type": "stream",
     "text": [
      "This is Fatima's Spiral 1 Day 3 file.\n",
      "\n"
     ]
    }
   ],
   "source": [
    "#File Reading\n",
    "with open(\"test.txt\", \"r\") as f:\n",
    "    content = f.read()\n",
    "    print(content)"
   ]
  },
  {
   "cell_type": "code",
   "execution_count": null,
   "id": "c6a0c4ae-9f22-407f-bd52-748dbf60ced1",
   "metadata": {},
   "outputs": [],
   "source": []
  }
 ],
 "metadata": {
  "kernelspec": {
   "display_name": "Python 3 (ipykernel)",
   "language": "python",
   "name": "python3"
  },
  "language_info": {
   "codemirror_mode": {
    "name": "ipython",
    "version": 3
   },
   "file_extension": ".py",
   "mimetype": "text/x-python",
   "name": "python",
   "nbconvert_exporter": "python",
   "pygments_lexer": "ipython3",
   "version": "3.12.7"
  }
 },
 "nbformat": 4,
 "nbformat_minor": 5
}
