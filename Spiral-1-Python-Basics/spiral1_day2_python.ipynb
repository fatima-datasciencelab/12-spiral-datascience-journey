{
 "cells": [
  {
   "cell_type": "code",
   "execution_count": 2,
   "id": "68d7e940-3ab7-499b-8173-0eac62ab1092",
   "metadata": {},
   "outputs": [
    {
     "name": "stdout",
     "output_type": "stream",
     "text": [
      "You are an adult\n"
     ]
    }
   ],
   "source": [
    "#If-Else Condition\n",
    "age = 20\n",
    "if age >= 18:\n",
    "    print(\"You are an adult\")\n",
    "else:\n",
    "    print(\"You are a minor\")\n"
   ]
  },
  {
   "cell_type": "code",
   "execution_count": 4,
   "id": "06f6d444-5887-4716-93c0-bdd89aecfd3e",
   "metadata": {},
   "outputs": [
    {
     "name": "stdout",
     "output_type": "stream",
     "text": [
      "I like apple\n",
      "I like banana\n",
      "I like mango\n"
     ]
    }
   ],
   "source": [
    "#For Loop\n",
    "fruits = [\"apple\", \"banana\", \"mango\"]\n",
    "for fruit in fruits:\n",
    "    print(f\"I like {fruit}\")\n"
   ]
  },
  {
   "cell_type": "code",
   "execution_count": 6,
   "id": "df2a9a2f-616f-4ba6-96da-6fbd4aff7b61",
   "metadata": {},
   "outputs": [
    {
     "name": "stdout",
     "output_type": "stream",
     "text": [
      "Counting: 1\n",
      "Counting: 2\n",
      "Counting: 3\n"
     ]
    }
   ],
   "source": [
    "\n",
    "#While Loop\n",
    "count = 1\n",
    "while count <= 3:\n",
    "    print(\"Counting:\", count)\n",
    "    count += 1\n"
   ]
  },
  {
   "cell_type": "code",
   "execution_count": 8,
   "id": "8e0951da-3298-4313-9fa3-e00b6bfedea1",
   "metadata": {},
   "outputs": [
    {
     "name": "stdout",
     "output_type": "stream",
     "text": [
      "Hello, Fatima!\n"
     ]
    }
   ],
   "source": [
    "\n",
    "#Function with Parameters\n",
    "def greet(name):\n",
    "    return f\"Hello, {name}!\"\n",
    "\n",
    "print(greet(\"Fatima\"))\n"
   ]
  },
  {
   "cell_type": "code",
   "execution_count": 10,
   "id": "3e6332d0-8bc1-4b98-b6c9-49c4fbb23963",
   "metadata": {},
   "outputs": [
    {
     "name": "stdout",
     "output_type": "stream",
     "text": [
      "15\n",
      "12\n"
     ]
    }
   ],
   "source": [
    "#Function with Default Argument\n",
    "def add(a, b=5):\n",
    "    return a + b\n",
    "\n",
    "print(add(10))       # 15\n",
    "print(add(10, 2))    # 12\n",
    "\n"
   ]
  },
  {
   "cell_type": "code",
   "execution_count": 12,
   "id": "042d1a22-f7b9-46f6-a90f-e462ada83702",
   "metadata": {},
   "outputs": [
    {
     "name": "stdout",
     "output_type": "stream",
     "text": [
      "['red', 'green', 'blue', 'yellow']\n",
      "RED\n",
      "GREEN\n",
      "BLUE\n",
      "YELLOW\n"
     ]
    }
   ],
   "source": [
    "#Lists\n",
    "colors = [\"red\", \"green\", \"blue\"]\n",
    "colors.append(\"yellow\")\n",
    "print(colors)\n",
    "\n",
    "for color in colors:\n",
    "    print(color.upper())"
   ]
  },
  {
   "cell_type": "code",
   "execution_count": null,
   "id": "d3e3224e-3a4b-4165-aa1f-2b0c47478747",
   "metadata": {},
   "outputs": [],
   "source": []
  }
 ],
 "metadata": {
  "kernelspec": {
   "display_name": "Python 3 (ipykernel)",
   "language": "python",
   "name": "python3"
  },
  "language_info": {
   "codemirror_mode": {
    "name": "ipython",
    "version": 3
   },
   "file_extension": ".py",
   "mimetype": "text/x-python",
   "name": "python",
   "nbconvert_exporter": "python",
   "pygments_lexer": "ipython3",
   "version": "3.12.7"
  }
 },
 "nbformat": 4,
 "nbformat_minor": 5
}
