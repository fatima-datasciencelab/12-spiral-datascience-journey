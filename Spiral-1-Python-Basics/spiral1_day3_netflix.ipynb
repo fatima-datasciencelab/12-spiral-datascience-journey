{
 "cells": [
  {
   "cell_type": "code",
   "execution_count": 1,
   "id": "62df048e-c257-442c-b2c3-0aa5471f75c7",
   "metadata": {},
   "outputs": [
    {
     "name": "stdout",
     "output_type": "stream",
     "text": [
      "                                     title  release_year\n",
      "693                 Ali & Ratu Ratu Queens          2021\n",
      "781  Black Holes | The Edge of All We Know          2021\n",
      "762                           Sweet & Sour          2021\n",
      "763                            Sweet Tooth          2021\n",
      "764           Trippin' with the Kandasamys          2021\n",
      "765                                 Xtreme          2021\n",
      "766                Alan Saldaña: Locked Up          2021\n",
      "767                   Creator's File: GOLD          2021\n",
      "768                         Dancing Queens          2021\n",
      "770              Myriam Fares: The Journey          2021\n"
     ]
    }
   ],
   "source": [
    "import pandas as pd\n",
    "\n",
    "df = pd.read_csv(\"netflix_titles.csv\")\n",
    "\n",
    "# 1. Sort by release year\n",
    "sorted_df = df.sort_values(\"release_year\", ascending=False)\n",
    "print(sorted_df[['title', 'release_year']].head(10))"
   ]
  },
  {
   "cell_type": "code",
   "execution_count": 3,
   "id": "231f46de-17e8-4dff-90dc-9ab780e18f31",
   "metadata": {},
   "outputs": [
    {
     "name": "stdout",
     "output_type": "stream",
     "text": [
      "                            title  release_year\n",
      "3536                       Saawan          2016\n",
      "4186  Abdullah, The Final Witness          2016\n",
      "4191                         Pari          2018\n",
      "4328             Teefa in Trouble          2018\n",
      "4615     Zindagi Kitni Haseen Hay          2016\n",
      "6025            7 Din Mohabbat In          2018\n",
      "6223                    Balu Mahi          2017\n",
      "6441            Chalay Thay Saath          2017\n",
      "6484                Chupan Chupai          2017\n",
      "6980               Ho Mann Jahaan          2015\n",
      "7024                     Humsafar          2011\n",
      "7119                       Janaan          2016\n",
      "7182                       Khaani          2017\n",
      "7833                     Rangreza          2017\n",
      "7918               Sadqay Tumhare          2014\n",
      "8686                         Waar          2013\n",
      "8761                    Wrong No.          2015\n",
      "8800           Zindagi Gulzar Hai          2012\n"
     ]
    }
   ],
   "source": [
    "# 2. Filter by country\n",
    "pakistan_content = df[df['country'] == 'Pakistan']\n",
    "print(pakistan_content[['title', 'release_year']])\n"
   ]
  },
  {
   "cell_type": "code",
   "execution_count": 5,
   "id": "a793887f-d774-4e84-9ad7-5223c68b2f23",
   "metadata": {},
   "outputs": [
    {
     "name": "stdout",
     "output_type": "stream",
     "text": [
      "                   title rating  release_year\n",
      "1          Blood & Water  TV-MA          2021\n",
      "2              Ganglands  TV-MA          2021\n",
      "3  Jailbirds New Orleans  TV-MA          2021\n",
      "4           Kota Factory  TV-MA          2021\n",
      "5          Midnight Mass  TV-MA          2021\n"
     ]
    }
   ],
   "source": [
    "# 3. Filter TV Shows only\n",
    "tv_shows = df[df['type'] == 'TV Show']\n",
    "print(tv_shows[['title', 'rating', 'release_year']].head(5))\n"
   ]
  },
  {
   "cell_type": "code",
   "execution_count": null,
   "id": "0bc3e673-ed5d-4fff-9352-165ca99f42a0",
   "metadata": {},
   "outputs": [],
   "source": []
  }
 ],
 "metadata": {
  "kernelspec": {
   "display_name": "Python 3 (ipykernel)",
   "language": "python",
   "name": "python3"
  },
  "language_info": {
   "codemirror_mode": {
    "name": "ipython",
    "version": 3
   },
   "file_extension": ".py",
   "mimetype": "text/x-python",
   "name": "python",
   "nbconvert_exporter": "python",
   "pygments_lexer": "ipython3",
   "version": "3.12.7"
  }
 },
 "nbformat": 4,
 "nbformat_minor": 5
}
