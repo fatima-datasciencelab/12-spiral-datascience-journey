{
 "cells": [
  {
   "cell_type": "code",
   "execution_count": 4,
   "id": "055b2b60-d91d-4641-a30e-4e32b5824081",
   "metadata": {},
   "outputs": [
    {
     "name": "stdout",
     "output_type": "stream",
     "text": [
      "<class 'int'> <class 'float'>\n"
     ]
    },
    {
     "name": "stdin",
     "output_type": "stream",
     "text": [
      "your name:  fat\n"
     ]
    },
    {
     "name": "stdout",
     "output_type": "stream",
     "text": [
      "Welcome, fat\n"
     ]
    }
   ],
   "source": [
    "#Type Casting & Input\n",
    "\n",
    "# Type casting ka matlab hai ek data type ko doosre mein convert karna\n",
    "age = int(\"25\")  # string ko integer mein convert kiya\n",
    "price = float(\"199.99\")  # string ko float mein convert kiya\n",
    "print(type(age), type(price))  # dono ka type check kiya\n",
    "\n",
    "# User se input lena\n",
    "name = input(\"your name: \")  # user se naam liya\n",
    "print(\"Welcome,\", name)  # us naam ko print kiya\n"
   ]
  },
  {
   "cell_type": "code",
   "execution_count": 6,
   "id": "c2921909-bf4a-43af-a6c1-2ee1e061f10d",
   "metadata": {},
   "outputs": [
    {
     "name": "stdout",
     "output_type": "stream",
     "text": [
      "0\n",
      "1\n",
      "3\n"
     ]
    }
   ],
   "source": [
    "#Loop Controls: break, continue, pass\n",
    "\n",
    "# break ka matlab hai loop ko forn rokh dena\n",
    "# continue ka matlab hai current step skip kar dena\n",
    "# pass ka matlab hai kuch bhi na karna (placeholder)\n",
    "\n",
    "for i in range(5):\n",
    "    if i == 2:\n",
    "        continue  # jab i 2 ho, us step ko skip karo\n",
    "    elif i == 4:\n",
    "        break  # jab i 4 ho, loop band kar do\n",
    "    print(i)  # baqi values print karenge\n",
    "\n",
    "# pass statement example\n",
    "for i in range(3):\n",
    "    pass  # kuch bhi nahi karega, sirf loop chalega bina action ke\n"
   ]
  },
  {
   "cell_type": "code",
   "execution_count": 8,
   "id": "f45b3f83-3240-4205-8243-3b16202a4648",
   "metadata": {},
   "outputs": [
    {
     "name": "stdout",
     "output_type": "stream",
     "text": [
      "1\n",
      "2\n",
      "3\n",
      "4\n",
      "5\n"
     ]
    }
   ],
   "source": [
    "#range()\n",
    "\n",
    "# range function se ek sequence milta hai numbers ka\n",
    "for i in range(1, 6):  # 1 se 5 tak print karega\n",
    "    print(i)\n"
   ]
  },
  {
   "cell_type": "code",
   "execution_count": 10,
   "id": "4a18fad8-e0ab-46e4-8809-7ff3a43eb820",
   "metadata": {},
   "outputs": [
    {
     "name": "stdout",
     "output_type": "stream",
     "text": [
      "0 red\n",
      "1 green\n",
      "2 blue\n",
      "Ali scored 85\n",
      "Fatima scored 90\n"
     ]
    }
   ],
   "source": [
    "# enumerate() and zip()\n",
    "\n",
    "# enumerate se list ke index ke sath value milti hai\n",
    "colors = ['red', 'green', 'blue']\n",
    "for idx, val in enumerate(colors):\n",
    "    print(idx, val)  # index aur color dono print honge\n",
    "\n",
    "# zip se do lists ko parallel mein loop karte hain\n",
    "names = ['Ali', 'Fatima']\n",
    "scores = [85, 90]\n",
    "for n, s in zip(names, scores):\n",
    "    print(n, \"scored\", s)  # Ali scored 85 etc.\n"
   ]
  },
  {
   "cell_type": "code",
   "execution_count": 12,
   "id": "2278bcff-0248-4f4a-b248-eada021ebad6",
   "metadata": {},
   "outputs": [
    {
     "name": "stdout",
     "output_type": "stream",
     "text": [
      "hello Fatima\n",
      "Hello\n"
     ]
    }
   ],
   "source": [
    "#String Slicing and Methods \n",
    "\n",
    "# string strip se extra spaces hatate hain\n",
    "# lower se small letters mein convert\n",
    "# replace se word badalte hain\n",
    "\n",
    "text = \"  Hello Python  \"\n",
    "print(text.strip().lower().replace(\"python\", \"Fatima\"))  # output: hello fatima\n",
    "\n",
    "# slicing: specific part of string print karna\n",
    "print(text[2:7])  # 2nd se 6th character tak\n"
   ]
  },
  {
   "cell_type": "code",
   "execution_count": 14,
   "id": "d9babd12-8edd-4227-93ae-abd76ce6894e",
   "metadata": {},
   "outputs": [
    {
     "name": "stdout",
     "output_type": "stream",
     "text": [
      "Exactly 45\n"
     ]
    }
   ],
   "source": [
    "#Nested if/else\n",
    "\n",
    "x = 45\n",
    "# yahan if ke andar ek aur if/else hai (nested)\n",
    "if x > 50:\n",
    "    print(\"50 se zyada hai\")\n",
    "else:\n",
    "    if x == 45:\n",
    "        print(\"Exactly 45\")\n",
    "    else:\n",
    "        print(\"50 se kam hai\")\n"
   ]
  },
  {
   "cell_type": "code",
   "execution_count": 16,
   "id": "980e30e0-7c39-49b5-bc9b-726ba3068a8d",
   "metadata": {},
   "outputs": [
    {
     "name": "stdout",
     "output_type": "stream",
     "text": [
      "[0, 1, 4, 9, 16]\n"
     ]
    }
   ],
   "source": [
    " #List Comprehension\n",
    "\n",
    "# normally loop mein list banate hain\n",
    "# yahan ek hi line mein square list ban gayi\n",
    "\n",
    "squares = [x*x for x in range(5)]  # 0,1,4,9,16\n",
    "print(squares)\n"
   ]
  },
  {
   "cell_type": "code",
   "execution_count": 18,
   "id": "8010efed-1126-437d-b77c-de1fc5924c98",
   "metadata": {},
   "outputs": [
    {
     "name": "stdout",
     "output_type": "stream",
     "text": [
      "Zero se divide nahi kar sakte!\n"
     ]
    }
   ],
   "source": [
    "#Try/Except\n",
    "\n",
    "# try se risky code likhte hain\n",
    "# agar error aaye to except chalta hai\n",
    "\n",
    "try:\n",
    "    result = 10 / 0  # ZeroDivisionError aayega\n",
    "except ZeroDivisionError:\n",
    "    print(\"Zero se divide nahi kar sakte!\")  # error handle ho gaya\n"
   ]
  },
  {
   "cell_type": "code",
   "execution_count": 20,
   "id": "bc58b183-5fe5-46ad-99a7-2c2e26a397fd",
   "metadata": {},
   "outputs": [],
   "source": [
    "#With Open\n",
    "\n",
    "# 'with' ka use safe tarike se file open/close karne ke liye hota hai\n",
    "\n",
    "with open(\"test_file.txt\", \"w\") as f:\n",
    "    f.write(\"Fatima is learning Data Science!\")  # file mein likha\n"
   ]
  },
  {
   "cell_type": "code",
   "execution_count": null,
   "id": "157552e4-2e3b-404c-9a24-b8a8ef35a68f",
   "metadata": {},
   "outputs": [],
   "source": []
  }
 ],
 "metadata": {
  "kernelspec": {
   "display_name": "Python 3 (ipykernel)",
   "language": "python",
   "name": "python3"
  },
  "language_info": {
   "codemirror_mode": {
    "name": "ipython",
    "version": 3
   },
   "file_extension": ".py",
   "mimetype": "text/x-python",
   "name": "python",
   "nbconvert_exporter": "python",
   "pygments_lexer": "ipython3",
   "version": "3.12.7"
  }
 },
 "nbformat": 4,
 "nbformat_minor": 5
}
